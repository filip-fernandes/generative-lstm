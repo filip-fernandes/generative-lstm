{
 "cells": [
  {
   "cell_type": "code",
   "execution_count": 1,
   "id": "13f58997",
   "metadata": {},
   "outputs": [],
   "source": [
    "import torch\n",
    "import torch.nn as nn\n",
    "from torch.nn import functional as F\n",
    "\n",
    "torch.manual_seed(1337);"
   ]
  },
  {
   "cell_type": "code",
   "execution_count": 2,
   "id": "61b397c9",
   "metadata": {},
   "outputs": [],
   "source": [
    "# read it in to inspect it\n",
    "with open('input.txt', 'r', encoding='utf-8') as f:\n",
    "    text = f.read()"
   ]
  },
  {
   "cell_type": "code",
   "execution_count": 3,
   "id": "03e8456c",
   "metadata": {},
   "outputs": [
    {
     "name": "stdout",
     "output_type": "stream",
     "text": [
      "First Citizen:\n",
      "Before we proceed any further, hear me speak.\n",
      "\n",
      "All:\n",
      "Speak, speak.\n",
      "\n",
      "First Citizen:\n",
      "You are all resolved rather to die than to famish?\n",
      "\n",
      "All:\n",
      "Resolved. resolved.\n",
      "\n",
      "First Citizen:\n",
      "First, you know Caius Marcius is chief enemy to the people.\n",
      "\n",
      "All:\n",
      "We know't, we know't.\n",
      "\n",
      "First Citizen:\n",
      "Let us kill him, and we'll have corn at our own price.\n",
      "Is't a verdict?\n",
      "\n",
      "All:\n",
      "No more talking on't; let it be done: away, away!\n",
      "\n",
      "Second Citizen:\n",
      "One word, good citizens.\n",
      "\n",
      "First Citizen:\n",
      "We are accounted poor citizens, the patricians good.\n",
      "What authority surfeits on would relieve us: if they\n",
      "would yield us but the superfluity, while it were\n",
      "wholesome, we might guess they relieved us humanely;\n",
      "but they think we are too dear: the leanness that\n",
      "afflicts us, the object of our misery, is as an\n",
      "inventory to particularise their abundance; our\n",
      "sufferance is a gain to them Let us revenge this with\n",
      "our pikes, ere we become rakes: for the gods know I\n",
      "speak this in hunger for bread, not in thirst for revenge.\n",
      "\n",
      "\n"
     ]
    }
   ],
   "source": [
    "print(text[:1000])"
   ]
  },
  {
   "cell_type": "code",
   "execution_count": 4,
   "id": "defe7014",
   "metadata": {},
   "outputs": [],
   "source": [
    "device = 'cuda' if torch.cuda.is_available() else 'cpu'"
   ]
  },
  {
   "cell_type": "code",
   "execution_count": 5,
   "id": "67f37093",
   "metadata": {},
   "outputs": [],
   "source": [
    "chars = sorted(list(set(text)))\n",
    "stoi = { ch:i for i, ch in enumerate(chars) }\n",
    "itos = { i:ch for i, ch in enumerate(chars) }\n",
    "encode = lambda s: [stoi[c] for c in s] # encoder: take a string and output a list of integers\n",
    "decode = lambda l: ''.join([itos[i] for i in l]) # decoder: take a list of integers, output a string\n",
    "\n",
    "# seed for generating text\n",
    "idx = torch.tensor([0]).to(device)"
   ]
  },
  {
   "cell_type": "code",
   "execution_count": 6,
   "id": "4a0ff85f",
   "metadata": {},
   "outputs": [],
   "source": [
    "# encoding the entire dataset into a tensor\n",
    "data = torch.tensor(encode(text), dtype=torch.long)\n",
    "# build dataset\n",
    "n = int(0.9 * len(data)) # first 90% will be trian, rest val\n",
    "train_data = data[:n]\n",
    "val_data = data[n:]"
   ]
  },
  {
   "cell_type": "code",
   "execution_count": 7,
   "id": "5c7c6e17",
   "metadata": {},
   "outputs": [],
   "source": [
    "def get_batch(split):\n",
    "    # generate a small batch of data of inputs x and targets y\n",
    "    data = train_data if split == 'train' else val_data\n",
    "    ix = torch.randint(len(data) - block_size, (batch_size,))\n",
    "    x = torch.stack([data[i:i+block_size] for i in ix])\n",
    "    y = torch.stack([data[i + 1: i + block_size + 1] for i in ix])\n",
    "    x = x.to(device)\n",
    "    y = y.to(device)\n",
    "    return x[0], y[0]"
   ]
  },
  {
   "cell_type": "code",
   "execution_count": 8,
   "id": "946ca34d",
   "metadata": {},
   "outputs": [],
   "source": [
    "eval_iters = 200\n",
    "@torch.no_grad()\n",
    "def estimate_loss():\n",
    "    out = {}\n",
    "    model.eval()\n",
    "    for split in ['train', 'val']:\n",
    "        losses = torch.zeros(eval_iters)\n",
    "        for k in range(eval_iters):\n",
    "            X, Y = get_batch(split)\n",
    "            logits, loss = model(X, Y)\n",
    "            losses[k] = loss.item()\n",
    "        out[split] = losses.mean().item()\n",
    "    model.train()\n",
    "    return out"
   ]
  },
  {
   "cell_type": "code",
   "execution_count": 9,
   "id": "bd4495ec",
   "metadata": {},
   "outputs": [],
   "source": [
    "# ------------------------------ Long Short-Term Memory -----------------------------------------------\n",
    "class LSTM(nn.Module): \n",
    "    \n",
    "    def __init__(self, hidden_size, output_size, embd_size):\n",
    "        super().__init__()\n",
    "        self.hidden_size = hidden_size\n",
    "        self.emb = nn.Embedding(output_size, embd_size) \n",
    "        self.linear = nn.Linear(embd_size, hidden_size)\n",
    "        self.forget_gate = nn.Sequential(\n",
    "            nn.Linear(hidden_size * 2, hidden_size),\n",
    "            nn.Sigmoid(),\n",
    "        )\n",
    "        self.input_gate = nn.ModuleList([\n",
    "            nn.Sequential(\n",
    "                nn.Linear(hidden_size * 2, hidden_size),\n",
    "                nn.Sigmoid()\n",
    "            ),\n",
    "            nn.Sequential(\n",
    "                nn.Linear(hidden_size * 2, hidden_size),\n",
    "                nn.Tanh()\n",
    "            ),\n",
    "        ])\n",
    "        self.output_gate = nn.Sequential(\n",
    "            nn.Linear(hidden_size * 2, hidden_size),\n",
    "            nn.Sigmoid(),\n",
    "        )\n",
    "        self.tanh = nn.Tanh()\n",
    "        self.lm_head = nn.Linear(hidden_size, output_size)\n",
    "\n",
    "    def forward(self, X, y=None):\n",
    "        # embed the characters\n",
    "        X = self.emb(X)\n",
    "\n",
    "        # reshape the embeddings\n",
    "        X = self.linear(X) # (hidden_size, 1)\n",
    "\n",
    "        # takes ht-1 and ct-1 and outputs h and c.\n",
    "        def lstm_cell(c, h, x):\n",
    "            \n",
    "            # concatenate input to h\n",
    "            h_x = torch.concat((h, x)) # (hidden_size +  hidden_size, 1)\n",
    "            \n",
    "            # forget gate\n",
    "            fout = self.forget_gate(h_x) # (hidden_size, 1)\n",
    "            # update c\n",
    "            c = c * fout\n",
    "\n",
    "            # input gate\n",
    "            isig = self.input_gate[0](h_x) # (hidden_size, 1)\n",
    "            itanh = self.input_gate[1](h_x) # (hidden_size, 1)\n",
    "            iout = isig * itanh \n",
    "            # update c\n",
    "            c = c + iout \n",
    "\n",
    "            # output gate    \n",
    "            oout = self.output_gate(h_x) # (hidden_size, 1)\n",
    "            h = self.tanh(c) * oout\n",
    "            \n",
    "            return c, h # (hidden_size, 1) both\n",
    "\n",
    "        # initialize h and c to 0\n",
    "        c = torch.zeros(self.hidden_size).to(device)\n",
    "        h = torch.zeros(self.hidden_size).to(device)\n",
    "\n",
    "        to_fill = torch.zeros(X.shape[0], self.hidden_size).to(device)\n",
    "\n",
    "        # iterate through time\n",
    "        for i, x in enumerate(X):\n",
    "            c, h = lstm_cell(c, h, x)\n",
    "            to_fill[i] = h\n",
    "        \n",
    "        # get logits\n",
    "        logits = self.lm_head(to_fill)\n",
    "\n",
    "        if y is None:\n",
    "             return logits, None\n",
    "            \n",
    "        # calculate loss\n",
    "        loss = F.cross_entropy(logits, y)\n",
    "        return logits, loss\n",
    "    \n",
    "    def generate(self, idx, max_new_tokens):\n",
    "        for _ in range(max_new_tokens):\n",
    "            logits, loss = self(idx, y=None)\n",
    "            probs = F.softmax(logits, 0)\n",
    "            idx_next = torch.multinomial(probs, num_samples=1)[0]\n",
    "            # append sampled index to the running sequence\n",
    "            idx = torch.cat((idx, idx_next))\n",
    "        return decode(idx.tolist())\n"
   ]
  },
  {
   "cell_type": "code",
   "execution_count": 10,
   "id": "fc8c012d",
   "metadata": {},
   "outputs": [],
   "source": [
    "# Hyperparameters-------\n",
    "vocab_size = len(chars)\n",
    "hidden_size = 512\n",
    "embd_size = 192\n",
    "batch_size = 1\n",
    "block_size = 512\n",
    "learning_rate = 3e-4\n",
    "# ----------------------"
   ]
  },
  {
   "cell_type": "code",
   "execution_count": 11,
   "id": "2a119f8f",
   "metadata": {},
   "outputs": [
    {
     "data": {
      "text/plain": [
       "<All keys matched successfully>"
      ]
     },
     "execution_count": 11,
     "metadata": {},
     "output_type": "execute_result"
    }
   ],
   "source": [
    "model = LSTM(hidden_size=hidden_size, output_size=vocab_size, embd_size=embd_size)\n",
    "model = model.to(device)\n",
    "model.load_state_dict(torch.load('LSTM_model2.pt'))"
   ]
  },
  {
   "cell_type": "code",
   "execution_count": 15,
   "id": "7fc02a1f",
   "metadata": {},
   "outputs": [
    {
     "name": "stdout",
     "output_type": "stream",
     "text": [
      "loss 0.9400046467781067 / 0.00%\n"
     ]
    }
   ],
   "source": [
    "# training\n",
    "max_steps = 50000\n",
    "opt = torch.optim.AdamW(model.parameters(), lr=learning_rate)\n",
    "for steps in range(max_steps + 1):\n",
    "    # sample batch data\n",
    "    xb, yb = get_batch('train')\n",
    "    # evaluate the loss\n",
    "    logits, loss = model(xb, yb)\n",
    "    opt.zero_grad(set_to_none=True)\n",
    "    loss.backward()\n",
    "    opt.step()\n",
    "    if steps % (0.1 * max_steps) == 0:\n",
    "        print(f'loss {loss.item()} / {steps/max_steps * 100:.2f}%')\n",
    "    \n",
    "    break"
   ]
  },
  {
   "cell_type": "code",
   "execution_count": 13,
   "id": "9bcf6c3f",
   "metadata": {},
   "outputs": [
    {
     "name": "stdout",
     "output_type": "stream",
     "text": [
      "{'train': 1.0186747312545776, 'val': 1.5402069091796875}\n"
     ]
    }
   ],
   "source": [
    "print(estimate_loss())\n",
    "# {'train': 1.3803791999816895, 'val': 1.599916934967041} 192, 82, 256\n",
    "# {'train': 1.0186747312545776, 'val': 1.5402069091796875} 512, 192, 512"
   ]
  },
  {
   "cell_type": "code",
   "execution_count": 42,
   "id": "f7f0819b",
   "metadata": {},
   "outputs": [
    {
     "data": {
      "text/plain": [
       "2243841"
      ]
     },
     "execution_count": 42,
     "metadata": {},
     "output_type": "execute_result"
    }
   ],
   "source": [
    "sum(p.numel() for p in model.parameters() if p.requires_grad)"
   ]
  },
  {
   "cell_type": "code",
   "execution_count": 52,
   "id": "6ee82370",
   "metadata": {},
   "outputs": [
    {
     "name": "stdout",
     "output_type": "stream",
     "text": [
      "\n",
      "3LJ3&ymAhB\n"
     ]
    }
   ],
   "source": [
    "# output of the model\n",
    "print(model.generate(idx, 10))"
   ]
  },
  {
   "cell_type": "code",
   "execution_count": 13,
   "id": "e8f7919b",
   "metadata": {},
   "outputs": [],
   "source": [
    "@torch.no_grad()\n",
    "def generate(idx, max_new_tokens):\n",
    "        for i in range(max_new_tokens):\n",
    "            logits, loss = model(idx, y=None)\n",
    "            logits = logits[-1, :]\n",
    "            probs = F.softmax(logits, dim=-1)\n",
    "            idx_next = torch.multinomial(probs, num_samples=1)\n",
    "            # append sampled index to the running sequence\n",
    "            idx = torch.cat((idx, idx_next))\n",
    "        return idx"
   ]
  },
  {
   "cell_type": "code",
   "execution_count": 16,
   "id": "a6584ca2",
   "metadata": {},
   "outputs": [
    {
     "name": "stdout",
     "output_type": "stream",
     "text": [
      "\n",
      "\n",
      "KING EDWARD IV:\n",
      "But, with those valiant prince of money; therefore none,\n",
      "Were once my tongue upon all of all fault?\n",
      "\n",
      "KING EDWARD IV:\n",
      "Brother, and date up, Edward, did consul.\n",
      "And yet--therefore comes the sea, and go.\n",
      "\n",
      "HASTINGS:\n",
      "Shall I see him or? What then?\n",
      "First, more cause, God' love! I saw 'tis no something;\n",
      "Might turn as I thus with more did sheep-loving mouths\n",
      "Let on to meet my severing fair,\n",
      "Or Richard: there is my subject, or did.\n",
      "\n",
      "DUKE VINCENTIO:\n",
      "Ha! keep your virtues a soul. Do serve me\n",
      "To sorrow\n"
     ]
    }
   ],
   "source": [
    "# output of the model\n",
    "print(decode(generate(idx, 512).tolist()))"
   ]
  },
  {
   "cell_type": "code",
   "execution_count": 19,
   "id": "c9596f59",
   "metadata": {},
   "outputs": [],
   "source": [
    "torch.save(model.state_dict(), \"LSTM_model3.pt\")"
   ]
  }
 ],
 "metadata": {
  "kernelspec": {
   "display_name": "Python 3 (ipykernel)",
   "language": "python",
   "name": "python3"
  },
  "language_info": {
   "codemirror_mode": {
    "name": "ipython",
    "version": 3
   },
   "file_extension": ".py",
   "mimetype": "text/x-python",
   "name": "python",
   "nbconvert_exporter": "python",
   "pygments_lexer": "ipython3",
   "version": "3.11.2"
  }
 },
 "nbformat": 4,
 "nbformat_minor": 5
}
